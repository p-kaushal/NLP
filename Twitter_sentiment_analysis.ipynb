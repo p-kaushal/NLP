{
  "nbformat": 4,
  "nbformat_minor": 0,
  "metadata": {
    "colab": {
      "name": "Twitter sentiment analysis.ipynb",
      "provenance": [],
      "collapsed_sections": [],
      "history_visible": true,
      "authorship_tag": "ABX9TyPhrJY1dhrSBTfmpEL9PaWL",
      "include_colab_link": true
    },
    "kernelspec": {
      "name": "python3",
      "display_name": "Python 3"
    },
    "language_info": {
      "name": "python"
    }
  },
  "cells": [
    {
      "cell_type": "markdown",
      "metadata": {
        "id": "view-in-github",
        "colab_type": "text"
      },
      "source": [
        "<a href=\"https://colab.research.google.com/github/pranav-kaushal/NLP/blob/main/Twitter_sentiment_analysis.ipynb\" target=\"_parent\"><img src=\"https://colab.research.google.com/assets/colab-badge.svg\" alt=\"Open In Colab\"/></a>"
      ]
    },
    {
      "cell_type": "markdown",
      "metadata": {
        "id": "lGSgcJkEQvdg"
      },
      "source": [
        "API account\n",
        "https://developer.twitter.com/en/portal/dashboard"
      ]
    },
    {
      "cell_type": "code",
      "metadata": {
        "id": "4CL2RMW_Lm0G"
      },
      "source": [
        "# Install Libraries\n",
        "#!pip install textblob\n",
        "#!pip install tweepy\n",
        "#!pip install langdetect\n",
        "#!pip install nltk"
      ],
      "execution_count": 19,
      "outputs": []
    },
    {
      "cell_type": "code",
      "metadata": {
        "id": "xbP8Ol3mP53Z"
      },
      "source": [
        "# Import Libraries\n",
        "\n",
        "from textblob import TextBlob\n",
        "import sys\n",
        "import tweepy\n",
        "import matplotlib.pyplot as plt\n",
        "import pandas as pd\n",
        "import numpy as np\n",
        "import os\n",
        "import nltk\n",
        "#import pycountry\n",
        "import re\n",
        "import string\n",
        "\n",
        "from wordcloud import WordCloud, STOPWORDS\n",
        "from PIL import Image\n",
        "from nltk.sentiment.vader import SentimentIntensityAnalyzer\n",
        "from langdetect import detect\n",
        "from nltk.stem import SnowballStemmer\n",
        "from nltk.sentiment.vader import SentimentIntensityAnalyzer\n",
        "from sklearn.feature_extraction.text import CountVectorizer"
      ],
      "execution_count": 20,
      "outputs": []
    },
    {
      "cell_type": "code",
      "metadata": {
        "colab": {
          "base_uri": "https://localhost:8080/"
        },
        "id": "xh-heG1ASKIS",
        "outputId": "c1c79262-6657-4fdc-c5d1-9ba4a6a8bc37"
      },
      "source": [
        "nltk.downloader.download('vader_lexicon')"
      ],
      "execution_count": 21,
      "outputs": [
        {
          "output_type": "stream",
          "text": [
            "[nltk_data] Downloading package vader_lexicon to /root/nltk_data...\n",
            "[nltk_data]   Package vader_lexicon is already up-to-date!\n"
          ],
          "name": "stdout"
        },
        {
          "output_type": "execute_result",
          "data": {
            "text/plain": [
              "True"
            ]
          },
          "metadata": {
            "tags": []
          },
          "execution_count": 21
        }
      ]
    },
    {
      "cell_type": "code",
      "metadata": {
        "id": "8UwGwNCoP7Ak"
      },
      "source": [
        "# Authentication\n",
        "consumerKey = \"********\"\n",
        "consumerSecret = \"********\"\n",
        "accessToken = \"*********\"\n",
        "accessTokenSecret = \"*******\"\n",
        "\n",
        "auth = tweepy.OAuthHandler(consumerKey, consumerSecret)\n",
        "auth.set_access_token(accessToken, accessTokenSecret)\n",
        "api = tweepy.API(auth)"
      ],
      "execution_count": 22,
      "outputs": []
    },
    {
      "cell_type": "code",
      "metadata": {
        "colab": {
          "base_uri": "https://localhost:8080/"
        },
        "id": "XdqH76MGP_kJ",
        "outputId": "64117ce0-93d7-4f0b-bdf2-ccc0ef75d082"
      },
      "source": [
        "#Sentiment Analysis\n",
        "\n",
        "def percentage(part,whole):\n",
        "    return 100 * float(part)/float(whole) \n",
        "\n",
        "keyword = input(\"Please enter keyword or hashtag to search: \")\n",
        "noOfTweet = int(input (\"Please enter how many tweets to analyze: \"))\n",
        "\n",
        "\n",
        "tweets = tweepy.Cursor(api.search, q=keyword).items(noOfTweet)\n",
        "positive  = 0\n",
        "negative = 0\n",
        "neutral = 0\n",
        "polarity = 0\n",
        "tweet_list = []\n",
        "neutral_list = []\n",
        "negative_list = []\n",
        "positive_list = []\n",
        "\n",
        "for tweet in tweets:\n",
        "    \n",
        "    #print(tweet.text)\n",
        "    tweet_list.append(tweet.text)\n",
        "    analysis = TextBlob(tweet.text)\n",
        "    score = SentimentIntensityAnalyzer().polarity_scores(tweet.text)\n",
        "    neg = score['neg']\n",
        "    neu = score['neu']\n",
        "    pos = score['pos']\n",
        "    comp = score['compound']\n",
        "    polarity += analysis.sentiment.polarity\n",
        "    \n",
        "    if neg > pos:\n",
        "        negative_list.append(tweet.text)\n",
        "        negative += 1\n",
        "\n",
        "    elif pos > neg:\n",
        "        positive_list.append(tweet.text)\n",
        "        positive += 1\n",
        "    \n",
        "    elif pos == neg:\n",
        "        neutral_list.append(tweet.text)\n",
        "        neutral += 1\n",
        "\n",
        "positive = percentage(positive, noOfTweet)\n",
        "negative = percentage(negative, noOfTweet)\n",
        "neutral = percentage(neutral, noOfTweet)\n",
        "polarity = percentage(polarity, noOfTweet)\n",
        "positive = format(positive, '.1f')\n",
        "negative = format(negative, '.1f')\n",
        "neutral = format(neutral, '.1f')"
      ],
      "execution_count": 23,
      "outputs": [
        {
          "output_type": "stream",
          "text": [
            "Please enter keyword or hashtag to search: scotiabank\n",
            "Please enter how many tweets to analyze: 100\n"
          ],
          "name": "stdout"
        }
      ]
    },
    {
      "cell_type": "code",
      "metadata": {
        "colab": {
          "base_uri": "https://localhost:8080/"
        },
        "id": "0SzTFhL4RkFt",
        "outputId": "f73d6b8f-2aef-467a-c5b8-59ff5421a74f"
      },
      "source": [
        "#Number of Tweets (Total, Positive, Negative, Neutral)\n",
        "tweet_list = pd.DataFrame(tweet_list)\n",
        "neutral_list = pd.DataFrame(neutral_list)\n",
        "negative_list = pd.DataFrame(negative_list)\n",
        "positive_list = pd.DataFrame(positive_list)\n",
        "print(\"total number: \",len(tweet_list))\n",
        "print(\"positive number: \",len(positive_list))\n",
        "print(\"negative number: \", len(negative_list))\n",
        "print(\"neutral number: \",len(neutral_list))"
      ],
      "execution_count": 24,
      "outputs": [
        {
          "output_type": "stream",
          "text": [
            "total number:  100\n",
            "positive number:  20\n",
            "negative number:  10\n",
            "neutral number:  70\n"
          ],
          "name": "stdout"
        }
      ]
    },
    {
      "cell_type": "code",
      "metadata": {
        "id": "yG2I_VaETqAJ"
      },
      "source": [
        "# to view full text in pandas dataset\n",
        "pd.set_option('display.max_colwidth', None)"
      ],
      "execution_count": 25,
      "outputs": []
    },
    {
      "cell_type": "code",
      "metadata": {
        "id": "sxsKWYo2SVQu"
      },
      "source": [
        "# Renaming 0 column header to tweets\n",
        "tweet_list.columns = ['tweets']"
      ],
      "execution_count": 26,
      "outputs": []
    },
    {
      "cell_type": "code",
      "metadata": {
        "colab": {
          "base_uri": "https://localhost:8080/",
          "height": 204
        },
        "id": "cuy9r8QvSXpX",
        "outputId": "dc6ccbff-e355-4839-8a08-3232e678d18d"
      },
      "source": [
        "tweet_list.head(5)"
      ],
      "execution_count": 27,
      "outputs": [
        {
          "output_type": "execute_result",
          "data": {
            "text/html": [
              "<div>\n",
              "<style scoped>\n",
              "    .dataframe tbody tr th:only-of-type {\n",
              "        vertical-align: middle;\n",
              "    }\n",
              "\n",
              "    .dataframe tbody tr th {\n",
              "        vertical-align: top;\n",
              "    }\n",
              "\n",
              "    .dataframe thead th {\n",
              "        text-align: right;\n",
              "    }\n",
              "</style>\n",
              "<table border=\"1\" class=\"dataframe\">\n",
              "  <thead>\n",
              "    <tr style=\"text-align: right;\">\n",
              "      <th></th>\n",
              "      <th>tweets</th>\n",
              "    </tr>\n",
              "  </thead>\n",
              "  <tbody>\n",
              "    <tr>\n",
              "      <th>0</th>\n",
              "      <td>Esto es realmente un sueño hecho realidad! Nuestro indice de sustentabilidad corporativa en el que trabajamos 5 año… https://t.co/Iw2RTgfbMs</td>\n",
              "    </tr>\n",
              "    <tr>\n",
              "      <th>1</th>\n",
              "      <td>@MartinDevon @JeffMarek @wyshynski @espn @JeffMarek took over for @darenmillard on @scotiabank Wednesday Night Hockey in 2018.</td>\n",
              "    </tr>\n",
              "    <tr>\n",
              "      <th>2</th>\n",
              "      <td>RT @NHL: 🍁 OH, CANADA! 🍁\\n\\nThe @MapleLeafs are the first in the @scotiabank North Division to clinch a spot in the #StanleyCup Playoffs! htt…</td>\n",
              "    </tr>\n",
              "    <tr>\n",
              "      <th>3</th>\n",
              "      <td>RT @NHL: 🍁 OH, CANADA! 🍁\\n\\nThe @MapleLeafs are the first in the @scotiabank North Division to clinch a spot in the #StanleyCup Playoffs! htt…</td>\n",
              "    </tr>\n",
              "    <tr>\n",
              "      <th>4</th>\n",
              "      <td>It's time to get your cocktail kits (alcoholic &amp;amp; non-alcoholic) ready for the Welcome Reception starting at 5pm EDT… https://t.co/B4S8UXQWT2</td>\n",
              "    </tr>\n",
              "  </tbody>\n",
              "</table>\n",
              "</div>"
            ],
            "text/plain": [
              "                                                                                                                                             tweets\n",
              "0      Esto es realmente un sueño hecho realidad! Nuestro indice de sustentabilidad corporativa en el que trabajamos 5 año… https://t.co/Iw2RTgfbMs\n",
              "1                    @MartinDevon @JeffMarek @wyshynski @espn @JeffMarek took over for @darenmillard on @scotiabank Wednesday Night Hockey in 2018.\n",
              "2    RT @NHL: 🍁 OH, CANADA! 🍁\\n\\nThe @MapleLeafs are the first in the @scotiabank North Division to clinch a spot in the #StanleyCup Playoffs! htt…\n",
              "3    RT @NHL: 🍁 OH, CANADA! 🍁\\n\\nThe @MapleLeafs are the first in the @scotiabank North Division to clinch a spot in the #StanleyCup Playoffs! htt…\n",
              "4  It's time to get your cocktail kits (alcoholic &amp; non-alcoholic) ready for the Welcome Reception starting at 5pm EDT… https://t.co/B4S8UXQWT2"
            ]
          },
          "metadata": {
            "tags": []
          },
          "execution_count": 27
        }
      ]
    },
    {
      "cell_type": "code",
      "metadata": {
        "colab": {
          "base_uri": "https://localhost:8080/",
          "height": 428
        },
        "id": "4WCzrJdlScp2",
        "outputId": "9362b7df-4aea-4e02-cd79-0b42425ad48b"
      },
      "source": [
        "#Creating PieCart\n",
        "\n",
        "labels = ['Positive ['+str(positive)+'%]' , 'Neutral ['+str(neutral)+'%]','Negative ['+str(negative)+'%]']\n",
        "sizes = [positive, neutral, negative]\n",
        "colors = ['yellowgreen', 'blue','red']\n",
        "patches, texts = plt.pie(sizes,colors=colors, startangle=90)\n",
        "plt.style.use('default')\n",
        "plt.legend(labels)\n",
        "plt.title(\"Sentiment Analysis Result for keyword=  \"+keyword+\"\" )\n",
        "plt.axis('equal')\n",
        "plt.show()"
      ],
      "execution_count": 28,
      "outputs": [
        {
          "output_type": "display_data",
          "data": {
            "image/png": "[encoded data removed]",
            "text/plain": [
              "<Figure size 640x480 with 1 Axes>"
            ]
          },
          "metadata": {
            "tags": []
          }
        }
      ]
    },
    {
      "cell_type": "code",
      "metadata": {
        "id": "9BFF1D6uThPi"
      },
      "source": [
        "# Dropping duplicates\n",
        "tweet_list.drop_duplicates(inplace = True)"
      ],
      "execution_count": 29,
      "outputs": []
    },
    {
      "cell_type": "markdown",
      "metadata": {
        "id": "oeGmtwRpUCjZ"
      },
      "source": [
        "\n",
        "## Extracting text values\n",
        "\n",
        "text_all = tweet_list[0].values text_neutral = neutral_list[0].values text_positive = positive_list[0].values text_negative = negative_list[0].values\n"
      ]
    },
    {
      "cell_type": "code",
      "metadata": {
        "colab": {
          "base_uri": "https://localhost:8080/",
          "height": 129
        },
        "id": "gUc5cPFMUD_f",
        "outputId": "04faefb0-a77f-473b-b87a-2d99ea3dc52c"
      },
      "source": [
        "#Cleaning Text (RT, Punctuation etc)\n",
        "\n",
        "#Creating new dataframe and new features\n",
        "tw_list = pd.DataFrame(tweet_list)\n",
        "#tw_list[\"text\"] = tw_list[0]\n",
        "\n",
        "#Removing RT, Punctuation etc\n",
        "def cleaner(x):\n",
        "  remove_rt = lambda x: re.sub('RT @\\w+: ',\" \",x)\n",
        "  rt = lambda x: re.sub(\"(@[A-Za-z0-9]+)|([^0-9A-Za-z \\t])|(\\w+:\\/\\/\\S+)\",\" \",x)\n",
        "  tw_list[\"tweets\"] = tw_list.text.map(remove_rt).map(rt)\n",
        "  tw_list[\"tweets\"] = tw_list.text.str.lower()\n",
        "  return .join(x)\n",
        "tw_list.head(10)"
      ],
      "execution_count": 33,
      "outputs": [
        {
          "output_type": "error",
          "ename": "SyntaxError",
          "evalue": "ignored",
          "traceback": [
            "\u001b[0;36m  File \u001b[0;32m\"<ipython-input-33-09508f404b61>\"\u001b[0;36m, line \u001b[0;32m13\u001b[0m\n\u001b[0;31m    return .join(x)\u001b[0m\n\u001b[0m           ^\u001b[0m\n\u001b[0;31mSyntaxError\u001b[0m\u001b[0;31m:\u001b[0m invalid syntax\n"
          ]
        }
      ]
    },
    {
      "cell_type": "code",
      "metadata": {
        "id": "BJz2g1YFWBCz"
      },
      "source": [
        "#Cleaning pipeline (RT, Punctuation etc)\n",
        "def data_preprocess(docs):\n",
        "\n",
        "  #Unicode to Ascii\n",
        "  text =''.join(c for c in unicodedata.normalize('NFD', docs) if unicodedata.category(c) != 'Mn')\n",
        "\n",
        "  # Remove all the special characters\n",
        "  text = re.sub(r'\\W', ' ', text)\n",
        "\n",
        "  # Remove all single characters\n",
        "  text = re.sub(r'(@[A-Za-z0-9]+)|([^0-9A-Za-z \\t])|(\\w+:\\/\\/\\S+)', ' ',text)\n",
        "\n",
        "  text = re.sub(r\"[^A-Za-z0-9]\", \" \", text)\n",
        "\n",
        "  # Substituting multiple spaces with single space\n",
        "  text = lambda x: re.sub('RT @\\w+: ',\" \",text)\n",
        "\n",
        "  # Remove all numbers\n",
        "  text = re.sub('\\d+', '', text)\n",
        "\n",
        "  #Tokenize the text\n",
        "  tokens = nltk.word_tokenize(text)\n",
        "\n",
        "  #Convert the tokens to lowercase\n",
        "  clean_text = [word.lower() for word in tokens]\n",
        "\n",
        "  #Remove stopwords\n",
        "  clean_text = [word for word in clean_text if word not in stopword]\n",
        "\n",
        "  #Lemmatize the tokens\n",
        "  clean_text = [wn.lemmatize(word) for word in clean_text]\n",
        "\n",
        "  #Combine back the tokens to sentences\n",
        "  clean_text = \" \".join(clean_text)\n",
        "\n",
        "\n",
        "  return clean_text"
      ],
      "execution_count": 36,
      "outputs": []
    },
    {
      "cell_type": "markdown",
      "metadata": {
        "id": "Ovdda9VGWXZL"
      },
      "source": [
        "References:\n",
        "\n",
        "https://github.com/yalinyener/TwitterSentimentAnalysis/blob/master/SentimentAnalysis.ipynb"
      ]
    }
  ]
}
