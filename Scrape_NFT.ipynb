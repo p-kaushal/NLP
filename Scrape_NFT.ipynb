{
  "nbformat": 4,
  "nbformat_minor": 0,
  "metadata": {
    "colab": {
      "name": "Scrape NFT.ipynb",
      "provenance": [],
      "authorship_tag": "ABX9TyMl261oSnO8i6A84Cljl0ek",
      "include_colab_link": true
    },
    "kernelspec": {
      "name": "python3",
      "display_name": "Python 3"
    },
    "language_info": {
      "name": "python"
    }
  },
  "cells": [
    {
      "cell_type": "markdown",
      "metadata": {
        "id": "view-in-github",
        "colab_type": "text"
      },
      "source": [
        "<a href=\"https://colab.research.google.com/github/pranav-kaushal/NLP/blob/main/Scrape_NFT.ipynb\" target=\"_parent\"><img src=\"https://colab.research.google.com/assets/colab-badge.svg\" alt=\"Open In Colab\"/></a>"
      ]
    },
    {
      "cell_type": "code",
      "metadata": {
        "colab": {
          "base_uri": "https://localhost:8080/"
        },
        "id": "kviXuXjWYgbX",
        "outputId": "70f467cf-5a3f-4481-a78c-10439dc60e0a"
      },
      "source": [
        "!pip install bs4\n",
        "!pip install lxml\n",
        "# import libraries\n",
        "import re\n",
        "import csv\n",
        "import json\n",
        "import time\n",
        "import requests\n",
        "import pandas as pd\n",
        "import numpy as np\n",
        "from io import StringIO \n",
        "from time import sleep\n",
        "from lxml import etree\n",
        "from random import randint\n",
        "from bs4 import BeautifulSoup"
      ],
      "execution_count": 3,
      "outputs": [
        {
          "output_type": "stream",
          "text": [
            "Requirement already satisfied: bs4 in /usr/local/lib/python3.7/dist-packages (0.0.1)\n",
            "Requirement already satisfied: beautifulsoup4 in /usr/local/lib/python3.7/dist-packages (from bs4) (4.6.3)\n",
            "Requirement already satisfied: lxml in /usr/local/lib/python3.7/dist-packages (4.2.6)\n"
          ],
          "name": "stdout"
        }
      ]
    },
    {
      "cell_type": "code",
      "metadata": {
        "colab": {
          "base_uri": "https://localhost:8080/"
        },
        "id": "ZaxzPqW4YjFw",
        "outputId": "f0664ebd-6a3c-4ca3-d377-1aa258d62c31"
      },
      "source": [
        "url_gm1 = 'https://opensea.io/assets?search[sortAscending]=false&search[sortBy]=LAST_SALE_DATE'\n",
        "\n",
        "results1= requests.get(url_gm1)\n",
        "web_content1 = BeautifulSoup(results1.content, 'lxml')\n",
        "for search_content1 in web_content1.find('div',{\"class\":'Blockreact__Block-sc-18q9hu0-0 dFhPys'}):\n",
        "  print(search_content1.text)"
      ],
      "execution_count": 25,
      "outputs": [
        {
          "output_type": "stream",
          "text": [
            "favorite_border1play_arrowRoberto Carlos x SportsIconThe ChampionPrice0.02 Last0.02 \n",
            "favorite_border2RaribleNotorious BIG, Watch Your Step, New York City 1995 from the hip hop images digital poster series by Chi ModuPrice0.15 Last0.01 \n",
            "favorite_border0SorareKim Jin-Hyuk 2021-22 • Rare 12/100Last0 \n",
            "favorite_border0SorareAaron Long 2021-22 • Rare 3/100Last0.04 \n",
            "favorite_border2play_arrowRaribleCRYPTOPILLS  X  HOGELast0.0047 \n",
            "favorite_border2Hearty HomiesHearty Homies No. 13Last0.005 \n",
            "favorite_border03D Baby Punks3D Baby Punk #334Last0.09 \n",
            "favorite_border1play_arrowFlybersFlyber #125Last0.01 \n",
            "favorite_border0SorareKento Misao 2020-21 • Rare 64/100Last0 \n",
            "favorite_border2SoulCurryArtSimilitude  -  Limited EditionPrice0.318 lockLast0.318 \n",
            "favorite_border2CryptoCinemaA Clockwork OrangePrice0.02 Last0 \n",
            "favorite_border1SuperRareBABY CLOUD ANGEL - AI Renaissance Painting #9Last0.135 \n",
            "favorite_border7Bored Ape Yacht Club7413Last1.4849 \n",
            "favorite_border0SorareHeo Yool 2021-22 • Rare 20/100Last0.029 \n",
            "favorite_border0SorareSven Bender 2020-21 • Rare 59/100Last0.01 \n",
            "favorite_border0SorareYuta Imazu 2021-22 • Rare 12/100Last0.006 \n",
            "favorite_border0SorareJoão Félix 2019-20 • Rare 38/100Last0.777 \n",
            "favorite_border0SorareCarlos Cuesta 2020-21 • Rare 59/100Last0.065 \n",
            "favorite_border0SorareKengo Kitazume 2020-21 • Rare 12/100Last0 \n",
            "favorite_border0SorareLee Tae-Hee 2020-21 • Rare 16/100Last0.031 \n",
            "favorite_border0Cheems Nuggets Fine Arts Winter Collection 2021Doge NuggetPrice0 Last0 \n",
            "favorite_border0HashStagsHashStag #88Last0.01 \n",
            "favorite_border1play_arrowBonsai by ZENFTBonsai #552Best Offer0.062 Last0.095 \n",
            "favorite_border0play_arrowSir Nicolas Rage CollectionSir Nicolas Rage #034lockLast0.125 \n",
            "favorite_border0ChillmeleonsChillmeleon #840Last0.08 \n",
            "favorite_border1CryptoKickersPoly Normie Crunchers with Pull 'Beveled Glass Fade'lockLast0.021 \n",
            "favorite_border0Bored Ape Yacht Club9764Best Offer0.41 Last0.99 \n",
            "favorite_border2Arabian CamelsArabian Camel #1508Best Offer0.02 Last0.04 \n",
            "favorite_border10Bored Ape Yacht Club571Best Offer1.18 Last1.07 \n",
            "favorite_border6Bored Ape Yacht Club5736Best Offer1.07 Last1.05 \n",
            "favorite_border14Nota Person CultFlowers In A HurricanePrice40 Last0.01 \n",
            "favorite_border2DeFi RidesDeFi Ride #10Last0.0009 \n",
            "\n"
          ],
          "name": "stdout"
        }
      ]
    },
    {
      "cell_type": "code",
      "metadata": {
        "colab": {
          "base_uri": "https://localhost:8080/"
        },
        "id": "OSSgf7LUYjJP",
        "outputId": "93556fc6-d3e0-429e-99f5-97ecae47ef0c"
      },
      "source": [
        "#url_gm2 = 'https://opensea.io/rankings?sortBy=seven_day_volume'\n",
        "\n",
        "#results2= requests.get(url_gm2)\n",
        "#web_content2 = BeautifulSoup(results2.content, 'lxml')\n",
        "#search_content2 = [web_content2.find('div',{\"class\":'rankings--table-body'}).text]\n",
        "#print(*search_content2)"
      ],
      "execution_count": 12,
      "outputs": [
        {
          "output_type": "stream",
          "text": [
            "Collection↓7 day volume7 day changetotal volumeavg priceownersassetsNEW1.Bored Ape Yacht Club㆔ 2,579.23714.93%㆔ 6,960.7㆔ 0.753,68810,000NEW2.CryptoPunks㆔ 1,897.71-25.46%㆔ 176,903.08㆔ 14.532,3359,999NEW3.Rarible㆔ 1,011.834.59%㆔ 86,041.91㆔ 0.00004139,867---NEW4.Sorare㆔ 932.2-4.98%㆔ 43,941.61㆔ 0.1219,772286,644NEW5.ZED RUN㆔ 849.34-27.16%㆔ 8,989.27㆔ 0.576,77326,966NEW6.The Sandbox㆔ 536.86352.37%㆔ 13,227.09㆔ 0.3710,560261,760NEW7.Meebits㆔ 460.58-18.51%㆔ 19,453.22㆔ 4.844,64820,000NEW8.VeeFriends㆔ 393.5397.97%㆔ 644.18㆔ 2.74,54810,255NEW9.Bonsai by ZENFT㆔ 388.07---㆔ 388.07㆔ 0.281,8288,888NEW10.Decentraland㆔ 387.8176.12%㆔ 97,891.7㆔ 8.244,53996,805NEW11.Ethlings㆔ 382.25---㆔ 382.25㆔ 0.218857,777NEW12.Ghxsts㆔ 305.34168.99%㆔ 537.73㆔ 0.84196542NEW13.Ember Sword Land㆔ 278.29---㆔ 278.29㆔ 0.152,08912,002NEW14.SuperRare㆔ 205.6-36.64%㆔ 37,101.06㆔ 2.214,12123,109NEW15.F1® Delta Time㆔ 147.6324.43%㆔ 5,202.73㆔ 0.51,08231,222NEW16.Urbit ID㆔ 136.65250.99%㆔ 5,565.12㆔ 2.536,00812,186NEW17.MakersPlace㆔ 134.99-14.67%㆔ 13,286.23㆔ 0.889,93064,050NEW18.Arabian Camels㆔ 111.77-34.88%㆔ 283.68㆔ 0.051,67912,012NEW19.Cryptovoxels㆔ 111.7414.98%㆔ 15,742.1㆔ 2.081,2304,912NEW20.Polka City Asset㆔ 100.85442.19%㆔ 955.6㆔ 12.579531,388NEW21.Hashmasks㆔ 96.2573.15%㆔ 30,263.93㆔ 2.414,29516,383NEW22.Art Blocks Curated㆔ 73.55-43.72%㆔ 10,032.26㆔ 0.943,88428,384NEW23.Known Origin㆔ 67.8793.32%㆔ 3,947.73㆔ 0.393,94921,590NEW24.Khabib Nurmagomedov NFT Platinum Cards㆔ 61.87500.00%㆔ 227.9㆔ 9.51321NEW25.Autoglyphs㆔ 59-60.56%㆔ 8,251.25㆔ 19.23132512NEW26.Polkamon㆔ 56.0232.88%㆔ 2,781.5㆔ 0.637,84623,588NEW27.Malachite㆔ 48.01-4.58%㆔ 439.33㆔ 6.762496NEW28.Mitzsuki㆔ 43.8924.92%㆔ 80.27㆔ 0.072361,515NEW29.1111 by Kevin Abosch㆔ 41.441901.88%㆔ 4,040.52㆔ 3.322471,111NEW30.Degen'$ Farm㆔ 40---㆔ 40㆔ 4011NEW31.Mirandus㆔ 39.91-15.06%㆔ 985㆔ 0.532,60388,503NEW32.Art by Gabe Weis㆔ 37.911163.62%㆔ 105.82㆔ 0.6136244NEW33.Async Art㆔ 34.32379.87%㆔ 3,774.53㆔ 3.4560310,514NEW34.Official MoonCats - Acclimated㆔ 32.6896.23%㆔ 131.77㆔ 0.418245,329NEW35.Deafbeef V2㆔ 31.95-33.94%㆔ 250.67㆔ 3.9884215NEW36.SHIKI31㆔ 28.98---㆔ 130.57㆔ 6.22810NEW37.The Underground Sistine Chapel by Pascal Boyart㆔ 28.15-83.14%㆔ 195.15㆔ 1.0291404NEW38.PXIN GXNG㆔ 28.1-42.96%㆔ 143.05㆔ 0.2104366NEW39.Art Blocks Playground㆔ 27.9645.98%㆔ 1,032.88㆔ 0.641,6298,746NEW40.Gener8tive K-Compositions㆔ 27.72704.50%㆔ 305.53㆔ 1.2130250NEW41.CryptoTrunks㆔ 26.83-57.79%㆔ 90.39㆔ 0.1710,09520,526NEW42.Gods Unchained㆔ 26.52127.11%㆔ 21,298.75㆔ 0.0515,3046,958,264NEW43.Chillmeleons㆔ 26.37---㆔ 26.37㆔ 0.081101,000NEW44.Riot Racers Cars㆔ 25.72---㆔ 25.72㆔ 0.2261200NEW45.Blob Mob㆔ 25.69-15.25%㆔ 68.36㆔ 0.14248835NEW46.DeNations㆔ 25.49-49.80%㆔ 235.21㆔ 0.0740411,000NEW47.Clout Citadel㆔ 25.2---㆔ 25.2㆔ 25.211NEW48.Vegas City㆔ 25---㆔ 816.74㆔ 9.6143138NEW49.Dario De Siena Digital㆔ 23.98-48.55%㆔ 124.47㆔ 0.32258430NEW50.Illuvium㆔ 21.8852.62%㆔ 224.41㆔ 0.441,8135,475NEW51.Ethereum Name Service (ENS)㆔ 21.3775.22%㆔ 7,584.49㆔ 0.7243,897155,612NEW52.Doki Doki Finance Matic㆔ 20.49-62.47%㆔ 95.94㆔ 0.061,199162,125NEW53.Wrapped MoonCatsRescue - Unofficial㆔ 20.46150.27%㆔ 6,277.6㆔ 0.912,0816,430NEW54.BabyWeebits㆔ 19.46-28.39%㆔ 72.27㆔ 0.14124440NEW55.Somnium Space VR㆔ 19.22-27.59%㆔ 20,175.42㆔ 6.355935,554NEW56.CryptoKitties㆔ 18.7568.97%㆔ 66,171.75㆔ 0.0999,7181,999,261NEW57.Ether Cards Founder㆔ 18.7441.33%㆔ 1,411.5㆔ 1.531,42610,000NEW58.THE 5000 DAYS COLLECTION㆔ 18.435.31%㆔ 2,464.13㆔ 72.47107119NEW59.Ethlings Wearables㆔ 17---㆔ 17㆔ 0.034438,672NEW60.Haylos㆔ 16.79365.11%㆔ 20.4㆔ 0.273865NEW61.Eelies㆔ 16.76-21.52%㆔ 80.99㆔ 2.611638NEW62.Etherpoems㆔ 16.38---㆔ 16.38㆔ 0.86106206NEW63.MegaCryptoPolis㆔ 15.95-48.88%㆔ 1,991.42㆔ 0.423,78189,363NEW64.TRiPTYCH DROPS㆔ 15---㆔ 15㆔ 1511NEW65.Meme Ltd.㆔ 14.56358.59%㆔ 4,174.15㆔ 0.537,30854,217NEW66.VoxoDeus㆔ 14.42-19.95%㆔ 171.12㆔ 0.591,1263,112NEW67.Artvatars㆔ 14.1236.92%㆔ 330.43㆔ 0.241,5646,713NEW68.Justin Aversano - Twin Flames - Collection of 100 Twin Portraits㆔ 13.5-32.37%㆔ 145.14㆔ 1.0364100NEW69.Mani Grupa Token㆔ 13.5-11.76%㆔ 341.81㆔ 1.2117358NEW70.Art Blocks Factory㆔ 12.8305.43%㆔ 210.7㆔ 0.421,4484,579NEW71.djeenies㆔ 12.7689.83%㆔ 30.82㆔ 0.2244120NEW72.Neon Kabuki㆔ 12.4512.02%㆔ 23.93㆔ 0.176295NEW73.Waifusion㆔ 12.35304.89%㆔ 2,643.94㆔ 0.471,71816,385NEW74.CryptoCities.㆔ 12.14485.01%㆔ 34.06㆔ 0.642940NEW75.PROOF OF {ART}WORK㆔ 11.9802.53%㆔ 13.21㆔ 0.531130NEW76.Beeple Spring Collection㆔ 11.5-60.84%㆔ 63.33㆔ 12.6732511NEW77.Voxies㆔ 11.08-37.49%㆔ 71.04㆔ 0.177203,667NEW78.Town Star㆔ 11.03140.38%㆔ 398.68㆔ 0.0213,9619,160,023NEW79.CryptoWhips㆔ 10.93264.33%㆔ 28.05㆔ 0.2956101NEW80.The NFT Guild㆔ 10.2426.02%㆔ 71.49㆔ 0.29109650NEW81.Artifex㆔ 10.04-80.35%㆔ 61.11㆔ 0.31621,120NEW82.VoxoDeus Minter㆔ 9.9-42.11%㆔ 961.2㆔ 0.3111NEW83.Wiley (JW.A) and Jon Fisher - World's First NFT Author Trading Card㆔ 9.89---㆔ 15.79㆔ 7.922NEW84.SatoshiFaces㆔ 9.858.22%㆔ 86.57㆔ 0.26272,959NEW85.Khabib Nurmagomedov NFT Gold Cards㆔ 9.28117.29%㆔ 202.42㆔ 1.05134185NEW86.D'EVOLs㆔ 9.16266.40%㆔ 41.3㆔ 0.673451NEW87.MeowBits Collection㆔ 8.763403.56%㆔ 9.46㆔ 0.0834114NEW88.Sabet㆔ 8.6314.49%㆔ 137.49㆔ 0.131610,618NEW89.AllStarFreaks㆔ 8.2254.48%㆔ 25.86㆔ 0.159190NEW90.HEX TOYS㆔ 8.14559.64%㆔ 26.65㆔ 0.0332934,205NEW91.StrongBlock NFTs㆔ 8.0252.17%㆔ 306.59㆔ 0.592,1303,589NEW92.Floyd Mayweather Jr.㆔ 8-50.00%㆔ 24㆔ 4751NEW93.Pulsquares㆔ 7.99-66.24%㆔ 128.09㆔ 0.93155490NEW94.The Meta Key㆔ 7.952.81%㆔ 387.88㆔ 0.258061,250NEW95.HINOTION CURATED㆔ 7.8957.49%㆔ 28.41㆔ 0.3231921NEW96.PolkaPets TCG㆔ 7.89-7.88%㆔ 3,298.23㆔ 0.323,68733,166NEW97.CryptoSergs㆔ 7.883183.75%㆔ 129.4㆔ 0.16306940NEW98.Nametag㆔ 7.891.60%㆔ 25.11㆔ 0.435542,496NEW99.Unique One Multiple㆔ 7.5732.19%㆔ 32.16㆔ 0.16862100,209,099,848NEW100.Cometh Spaceships㆔ 7.4699.59%㆔ 1,157.57㆔ 0.514344,892\n"
          ],
          "name": "stdout"
        }
      ]
    },
    {
      "cell_type": "code",
      "metadata": {
        "colab": {
          "base_uri": "https://localhost:8080/"
        },
        "id": "926QBuxKZD3d",
        "outputId": "06cb1bcd-8dcf-4fd8-82fe-c211aab54125"
      },
      "source": [
        "url_gm2 = 'https://opensea.io/rankings?sortBy=seven_day_volume'\n",
        "collectible = []\n",
        "results2= requests.get(url_gm2)\n",
        "web_content2 = BeautifulSoup(results2.content, 'lxml')\n",
        "for search_content2 in web_content2.find('div',{\"class\":'rankings--table-body'}):\n",
        "  collectible.append(search_content2.text)\n",
        "  print(search_content2.text)"
      ],
      "execution_count": 22,
      "outputs": [
        {
          "output_type": "stream",
          "text": [
            "Collection↓7 day volume7 day changetotal volumeavg priceownersassets\n",
            "NEW1.Bored Ape Yacht Club㆔ 2,579.23714.93%㆔ 6,960.7㆔ 0.753,68810,000\n",
            "NEW2.CryptoPunks㆔ 1,897.71-25.46%㆔ 176,903.08㆔ 14.532,3359,999\n",
            "NEW3.Rarible㆔ 1,011.834.59%㆔ 86,041.91㆔ 0.00004139,867---\n",
            "NEW4.Sorare㆔ 932.2-4.98%㆔ 43,941.61㆔ 0.1219,772286,644\n",
            "NEW5.ZED RUN㆔ 849.34-27.16%㆔ 8,989.27㆔ 0.576,77326,966\n",
            "NEW6.The Sandbox㆔ 536.86352.37%㆔ 13,227.09㆔ 0.3710,560261,760\n",
            "NEW7.Meebits㆔ 460.58-18.51%㆔ 19,453.22㆔ 4.844,64820,000\n",
            "NEW8.VeeFriends㆔ 393.5397.97%㆔ 644.18㆔ 2.74,54810,255\n",
            "NEW9.Bonsai by ZENFT㆔ 388.07---㆔ 388.07㆔ 0.281,8288,888\n",
            "NEW10.Decentraland㆔ 387.8176.12%㆔ 97,891.7㆔ 8.244,53996,805\n",
            "NEW11.Ethlings㆔ 382.25---㆔ 382.25㆔ 0.218857,777\n",
            "NEW12.Ghxsts㆔ 305.34168.99%㆔ 537.73㆔ 0.84196542\n",
            "NEW13.Ember Sword Land㆔ 278.29---㆔ 278.29㆔ 0.152,08912,002\n",
            "NEW14.SuperRare㆔ 205.6-36.64%㆔ 37,101.06㆔ 2.214,12123,109\n",
            "NEW15.F1® Delta Time㆔ 147.6324.43%㆔ 5,202.73㆔ 0.51,08231,222\n",
            "NEW16.Urbit ID㆔ 136.65250.99%㆔ 5,565.12㆔ 2.536,00812,186\n",
            "NEW17.MakersPlace㆔ 134.99-14.67%㆔ 13,286.23㆔ 0.889,93064,050\n",
            "NEW18.Arabian Camels㆔ 111.77-34.88%㆔ 283.68㆔ 0.051,67912,012\n",
            "NEW19.Cryptovoxels㆔ 111.7414.98%㆔ 15,742.1㆔ 2.081,2304,912\n",
            "NEW20.Polka City Asset㆔ 100.85442.19%㆔ 955.6㆔ 12.579531,388\n",
            "NEW21.Hashmasks㆔ 96.2573.15%㆔ 30,263.93㆔ 2.414,29516,383\n",
            "NEW22.Art Blocks Curated㆔ 73.55-43.72%㆔ 10,032.26㆔ 0.943,88428,384\n",
            "NEW23.Known Origin㆔ 67.8793.32%㆔ 3,947.73㆔ 0.393,94921,590\n",
            "NEW24.Khabib Nurmagomedov NFT Platinum Cards㆔ 61.87500.00%㆔ 227.9㆔ 9.51321\n",
            "NEW25.Autoglyphs㆔ 59-60.56%㆔ 8,251.25㆔ 19.23132512\n",
            "NEW26.Polkamon㆔ 56.0232.88%㆔ 2,781.5㆔ 0.637,84623,588\n",
            "NEW27.Malachite㆔ 48.01-4.58%㆔ 439.33㆔ 6.762496\n",
            "NEW28.Mitzsuki㆔ 43.8924.92%㆔ 80.27㆔ 0.072361,515\n",
            "NEW29.1111 by Kevin Abosch㆔ 41.441901.88%㆔ 4,040.52㆔ 3.322471,111\n",
            "NEW30.Degen'$ Farm㆔ 40---㆔ 40㆔ 4011\n",
            "NEW31.Mirandus㆔ 39.91-15.06%㆔ 985㆔ 0.532,60388,503\n",
            "NEW32.Art by Gabe Weis㆔ 37.911163.62%㆔ 105.82㆔ 0.6136244\n",
            "NEW33.Async Art㆔ 34.32379.87%㆔ 3,774.53㆔ 3.4560310,514\n",
            "NEW34.Official MoonCats - Acclimated㆔ 32.6896.23%㆔ 131.77㆔ 0.418245,329\n",
            "NEW35.Deafbeef V2㆔ 31.95-33.94%㆔ 250.67㆔ 3.9884215\n",
            "NEW36.SHIKI31㆔ 28.98---㆔ 130.57㆔ 6.22810\n",
            "NEW37.The Underground Sistine Chapel by Pascal Boyart㆔ 28.15-83.14%㆔ 195.15㆔ 1.0291404\n",
            "NEW38.PXIN GXNG㆔ 28.1-42.96%㆔ 143.05㆔ 0.2104366\n",
            "NEW39.Art Blocks Playground㆔ 27.9645.98%㆔ 1,032.88㆔ 0.641,6298,746\n",
            "NEW40.Gener8tive K-Compositions㆔ 27.72704.50%㆔ 305.53㆔ 1.2130250\n",
            "NEW41.CryptoTrunks㆔ 26.83-57.79%㆔ 90.39㆔ 0.1710,09520,526\n",
            "NEW42.Gods Unchained㆔ 26.52127.11%㆔ 21,298.75㆔ 0.0515,3046,958,264\n",
            "NEW43.Chillmeleons㆔ 26.37---㆔ 26.37㆔ 0.081101,000\n",
            "NEW44.Riot Racers Cars㆔ 25.72---㆔ 25.72㆔ 0.2261200\n",
            "NEW45.Blob Mob㆔ 25.69-15.25%㆔ 68.36㆔ 0.14248835\n",
            "NEW46.DeNations㆔ 25.49-49.80%㆔ 235.21㆔ 0.0740411,000\n",
            "NEW47.Clout Citadel㆔ 25.2---㆔ 25.2㆔ 25.211\n",
            "NEW48.Vegas City㆔ 25---㆔ 816.74㆔ 9.6143138\n",
            "NEW49.Dario De Siena Digital㆔ 23.98-48.55%㆔ 124.47㆔ 0.32258430\n",
            "NEW50.Illuvium㆔ 21.8852.62%㆔ 224.41㆔ 0.441,8135,475\n",
            "NEW51.Ethereum Name Service (ENS)㆔ 21.3775.22%㆔ 7,584.49㆔ 0.7243,897155,612\n",
            "NEW52.Doki Doki Finance Matic㆔ 20.49-62.47%㆔ 95.94㆔ 0.061,199162,125\n",
            "NEW53.Wrapped MoonCatsRescue - Unofficial㆔ 20.46150.27%㆔ 6,277.6㆔ 0.912,0816,430\n",
            "NEW54.BabyWeebits㆔ 19.46-28.39%㆔ 72.27㆔ 0.14124440\n",
            "NEW55.Somnium Space VR㆔ 19.22-27.59%㆔ 20,175.42㆔ 6.355935,554\n",
            "NEW56.CryptoKitties㆔ 18.7568.97%㆔ 66,171.75㆔ 0.0999,7181,999,261\n",
            "NEW57.Ether Cards Founder㆔ 18.7441.33%㆔ 1,411.5㆔ 1.531,42610,000\n",
            "NEW58.THE 5000 DAYS COLLECTION㆔ 18.435.31%㆔ 2,464.13㆔ 72.47107119\n",
            "NEW59.Ethlings Wearables㆔ 17---㆔ 17㆔ 0.034438,672\n",
            "NEW60.Haylos㆔ 16.79365.11%㆔ 20.4㆔ 0.273865\n",
            "NEW61.Eelies㆔ 16.76-21.52%㆔ 80.99㆔ 2.611638\n",
            "NEW62.Etherpoems㆔ 16.38---㆔ 16.38㆔ 0.86106206\n",
            "NEW63.MegaCryptoPolis㆔ 15.95-48.88%㆔ 1,991.42㆔ 0.423,78189,363\n",
            "NEW64.TRiPTYCH DROPS㆔ 15---㆔ 15㆔ 1511\n",
            "NEW65.Meme Ltd.㆔ 14.56358.59%㆔ 4,174.15㆔ 0.537,30854,217\n",
            "NEW66.VoxoDeus㆔ 14.42-19.95%㆔ 171.12㆔ 0.591,1263,112\n",
            "NEW67.Artvatars㆔ 14.1236.92%㆔ 330.43㆔ 0.241,5646,713\n",
            "NEW68.Justin Aversano - Twin Flames - Collection of 100 Twin Portraits㆔ 13.5-32.37%㆔ 145.14㆔ 1.0364100\n",
            "NEW69.Mani Grupa Token㆔ 13.5-11.76%㆔ 341.81㆔ 1.2117358\n",
            "NEW70.Art Blocks Factory㆔ 12.8305.43%㆔ 210.7㆔ 0.421,4484,579\n",
            "NEW71.djeenies㆔ 12.7689.83%㆔ 30.82㆔ 0.2244120\n",
            "NEW72.Neon Kabuki㆔ 12.4512.02%㆔ 23.93㆔ 0.176295\n",
            "NEW73.Waifusion㆔ 12.35304.89%㆔ 2,643.94㆔ 0.471,71816,385\n",
            "NEW74.CryptoCities.㆔ 12.14485.01%㆔ 34.06㆔ 0.642940\n",
            "NEW75.PROOF OF {ART}WORK㆔ 11.9802.53%㆔ 13.21㆔ 0.531130\n",
            "NEW76.Beeple Spring Collection㆔ 11.5-60.84%㆔ 63.33㆔ 12.6732511\n",
            "NEW77.Voxies㆔ 11.08-37.49%㆔ 71.04㆔ 0.177203,667\n",
            "NEW78.Town Star㆔ 11.03140.38%㆔ 398.68㆔ 0.0213,9619,160,023\n",
            "NEW79.CryptoWhips㆔ 10.93264.33%㆔ 28.05㆔ 0.2956101\n",
            "NEW80.The NFT Guild㆔ 10.2426.02%㆔ 71.49㆔ 0.29109650\n",
            "NEW81.Artifex㆔ 10.04-80.35%㆔ 61.11㆔ 0.31621,120\n",
            "NEW82.VoxoDeus Minter㆔ 9.9-42.11%㆔ 961.2㆔ 0.3111\n",
            "NEW83.Wiley (JW.A) and Jon Fisher - World's First NFT Author Trading Card㆔ 9.89---㆔ 15.79㆔ 7.922\n",
            "NEW84.SatoshiFaces㆔ 9.858.22%㆔ 86.57㆔ 0.26272,959\n",
            "NEW85.Khabib Nurmagomedov NFT Gold Cards㆔ 9.28117.29%㆔ 202.42㆔ 1.05134185\n",
            "NEW86.D'EVOLs㆔ 9.16266.40%㆔ 41.3㆔ 0.673451\n",
            "NEW87.MeowBits Collection㆔ 8.763403.56%㆔ 9.46㆔ 0.0834114\n",
            "NEW88.Sabet㆔ 8.6314.49%㆔ 137.49㆔ 0.131610,618\n",
            "NEW89.AllStarFreaks㆔ 8.2254.48%㆔ 25.86㆔ 0.159190\n",
            "NEW90.HEX TOYS㆔ 8.14559.64%㆔ 26.65㆔ 0.0332934,205\n",
            "NEW91.StrongBlock NFTs㆔ 8.0252.17%㆔ 306.59㆔ 0.592,1303,589\n",
            "NEW92.Floyd Mayweather Jr.㆔ 8-50.00%㆔ 24㆔ 4751\n",
            "NEW93.Pulsquares㆔ 7.99-66.24%㆔ 128.09㆔ 0.93155490\n",
            "NEW94.The Meta Key㆔ 7.952.81%㆔ 387.88㆔ 0.258061,250\n",
            "NEW95.HINOTION CURATED㆔ 7.8957.49%㆔ 28.41㆔ 0.3231921\n",
            "NEW96.PolkaPets TCG㆔ 7.89-7.88%㆔ 3,298.23㆔ 0.323,68733,166\n",
            "NEW97.CryptoSergs㆔ 7.883183.75%㆔ 129.4㆔ 0.16306940\n",
            "NEW98.Nametag㆔ 7.891.60%㆔ 25.11㆔ 0.435542,496\n",
            "NEW99.Unique One Multiple㆔ 7.5732.19%㆔ 32.16㆔ 0.16862100,209,099,848\n",
            "NEW100.Cometh Spaceships㆔ 7.4699.59%㆔ 1,157.57㆔ 0.514344,892\n",
            "\n"
          ],
          "name": "stdout"
        }
      ]
    },
    {
      "cell_type": "code",
      "metadata": {
        "id": "UQYLqey_b34J"
      },
      "source": [
        ""
      ],
      "execution_count": null,
      "outputs": []
    }
  ]
}